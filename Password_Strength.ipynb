{
  "nbformat": 4,
  "nbformat_minor": 0,
  "metadata": {
    "colab": {
      "provenance": [],
      "authorship_tag": "ABX9TyOd0/uWBIiKKyznsNYspNZV",
      "include_colab_link": true
    },
    "kernelspec": {
      "name": "python3",
      "display_name": "Python 3"
    },
    "language_info": {
      "name": "python"
    }
  },
  "cells": [
    {
      "cell_type": "markdown",
      "metadata": {
        "id": "view-in-github",
        "colab_type": "text"
      },
      "source": [
        "<a href=\"https://colab.research.google.com/github/tHOBEKI/OPTIFY/blob/main/Password_Strength.ipynb\" target=\"_parent\"><img src=\"https://colab.research.google.com/assets/colab-badge.svg\" alt=\"Open In Colab\"/></a>"
      ]
    },
    {
      "cell_type": "markdown",
      "source": [
        "Importing expressions"
      ],
      "metadata": {
        "id": "DG2vXvdq7pPp"
      }
    },
    {
      "cell_type": "code",
      "execution_count": null,
      "metadata": {
        "id": "r7aGw3HT3d_v"
      },
      "outputs": [],
      "source": [
        "import re\n"
      ]
    },
    {
      "cell_type": "markdown",
      "source": [
        "Passwors strength criteria"
      ],
      "metadata": {
        "id": "SG9Zv2086LoC"
      }
    },
    {
      "cell_type": "code",
      "source": [
        "def check_password_strength(password):\n",
        "\n",
        "    strength_criteria = {\n",
        "        'length': len(password) >= 8,  # Checks if the password length is at least 8 characters\n",
        "        'uppercase': bool(re.search(r'[A-Z]', password)),  # at least one uppercase letter\n",
        "        'lowercase': bool(re.search(r'[a-z]', password)),  # at least one lowercase letter\n",
        "        'digit': bool(re.search(r'\\d', password)),  # at least one digit\n",
        "        'special_char': bool(re.search(r'[@$!%*?&]', password))  #  at least one special character\n",
        "    }"
      ],
      "metadata": {
        "id": "2xLFpT3J6MRt"
      },
      "execution_count": null,
      "outputs": []
    },
    {
      "cell_type": "markdown",
      "source": [
        "Counting the criteria met"
      ],
      "metadata": {
        "id": "lQn4vCgP6YcW"
      }
    },
    {
      "cell_type": "code",
      "source": [
        " score = sum(strength_criteria.values())"
      ],
      "metadata": {
        "id": "hB7nb-Bq6Y9F"
      },
      "execution_count": null,
      "outputs": []
    },
    {
      "cell_type": "markdown",
      "source": [
        "Determining password strength"
      ],
      "metadata": {
        "id": "-jOlqnQK6kto"
      }
    },
    {
      "cell_type": "code",
      "source": [
        "    if score == 5:\n",
        "        strength = \"Strong\"\n",
        "    elif score >= 3:\n",
        "        strength = \"Moderate\"\n",
        "    else:\n",
        "        strength = \"Weak\"\n",
        "\n",
        "    return strength, strength_criteria\n"
      ],
      "metadata": {
        "id": "oNP_1wux6lms"
      },
      "execution_count": null,
      "outputs": []
    },
    {
      "cell_type": "markdown",
      "source": [
        "Get user input"
      ],
      "metadata": {
        "id": "1bQZR6T56t47"
      }
    },
    {
      "cell_type": "code",
      "source": [
        "\n",
        "password = input(\"Enter your password: \")\n",
        "strength, details = check_password_strength(password)\n",
        "print(f\"Password Strength: {strength}\")\n",
        "print(\"Criteria met:\")\n",
        "for criteria, met in details.items():\n",
        "    print(f\"{criteria.capitalize()}: {'✔' if met else '✘'}\")\n"
      ],
      "metadata": {
        "id": "o7vFiMmh6uYr"
      },
      "execution_count": null,
      "outputs": []
    }
  ]
}